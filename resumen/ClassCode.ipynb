{
  "nbformat": 4,
  "nbformat_minor": 0,
  "metadata": {
    "colab": {
      "provenance": [],
      "include_colab_link": true
    },
    "kernelspec": {
      "name": "python3",
      "display_name": "Python 3"
    },
    "language_info": {
      "name": "python"
    }
  },
  "cells": [
    {
      "cell_type": "markdown",
      "metadata": {
        "id": "view-in-github",
        "colab_type": "text"
      },
      "source": [
        "<a href=\"https://colab.research.google.com/github/mahuamanc/Programacion_en_Python/blob/main/resumen/ClassCode.ipynb\" target=\"_parent\"><img src=\"https://colab.research.google.com/assets/colab-badge.svg\" alt=\"Open In Colab\"/></a>"
      ]
    },
    {
      "cell_type": "markdown",
      "source": [
        "## Funciones Básicas"
      ],
      "metadata": {
        "id": "lvBk3CuQvZd3"
      }
    },
    {
      "cell_type": "code",
      "execution_count": null,
      "metadata": {
        "colab": {
          "base_uri": "https://localhost:8080/"
        },
        "id": "Rjf8xmcdvNc5",
        "outputId": "81663aab-60d7-445a-dcb0-42fc1fd8d404"
      },
      "outputs": [
        {
          "output_type": "execute_result",
          "data": {
            "text/plain": [
              "307"
            ]
          },
          "metadata": {},
          "execution_count": 1
        }
      ],
      "source": [
        "5+5*60^2"
      ]
    },
    {
      "cell_type": "markdown",
      "source": [
        "En algunos casos necesitaremos importar algunas librerías que complementarán los análisis ó cálculos que realicemos."
      ],
      "metadata": {
        "id": "hiNDYkc2vuD1"
      }
    },
    {
      "cell_type": "code",
      "source": [
        "log(10)"
      ],
      "metadata": {
        "id": "eFUA5MaVvmhP"
      },
      "execution_count": null,
      "outputs": []
    },
    {
      "cell_type": "code",
      "source": [
        "from math import log"
      ],
      "metadata": {
        "id": "IV1ylzi_vtYu"
      },
      "execution_count": null,
      "outputs": []
    },
    {
      "cell_type": "code",
      "source": [
        "log(10)"
      ],
      "metadata": {
        "colab": {
          "base_uri": "https://localhost:8080/"
        },
        "id": "KQL2wkXrwMgG",
        "outputId": "6515db2e-1ad4-4427-8fc5-67120c3f429f"
      },
      "execution_count": null,
      "outputs": [
        {
          "output_type": "execute_result",
          "data": {
            "text/plain": [
              "2.302585092994046"
            ]
          },
          "metadata": {},
          "execution_count": 9
        }
      ]
    },
    {
      "cell_type": "markdown",
      "source": [
        "La función print será muy útil para imprimir resultados de los procesos que veremos"
      ],
      "metadata": {
        "id": "ZBx_X7xqyXuw"
      }
    },
    {
      "cell_type": "code",
      "source": [
        "print(\"Hola amigos de dmc, ya estoy en python!\")"
      ],
      "metadata": {
        "colab": {
          "base_uri": "https://localhost:8080/"
        },
        "id": "_dEHqzAjxwO1",
        "outputId": "3bb7c371-353e-4478-f4e9-a88fa968ea86"
      },
      "execution_count": null,
      "outputs": [
        {
          "output_type": "stream",
          "name": "stdout",
          "text": [
            "Hola amigos de dmc, ya estoy en python!\n"
          ]
        }
      ]
    },
    {
      "cell_type": "code",
      "source": [
        "print(\"\\tHola amigos de dmc, ya estoy en python!\")"
      ],
      "metadata": {
        "colab": {
          "base_uri": "https://localhost:8080/"
        },
        "id": "jMxaPYc03eFM",
        "outputId": "d02510df-82f5-4a75-9fdc-e947f0a94426"
      },
      "execution_count": null,
      "outputs": [
        {
          "output_type": "stream",
          "name": "stdout",
          "text": [
            "\tHola amigos de dmc, ya estoy en python!\n"
          ]
        }
      ]
    },
    {
      "cell_type": "code",
      "source": [
        "print(\"Los algoritmos que veremos son: \\n\\tlinear regression \\n\\tDecision Tree \\n\\tXGBoost\")"
      ],
      "metadata": {
        "colab": {
          "base_uri": "https://localhost:8080/"
        },
        "id": "D42ypuJU3s11",
        "outputId": "83a444b4-93a9-42d0-a87a-aa13abf8431c"
      },
      "execution_count": null,
      "outputs": [
        {
          "output_type": "stream",
          "name": "stdout",
          "text": [
            "Los algoritmos que veremos son: \n",
            "\tlinear regression \n",
            "\tDecision Tree \n",
            "\tXGBoost\n"
          ]
        }
      ]
    },
    {
      "cell_type": "code",
      "source": [
        "import time"
      ],
      "metadata": {
        "id": "Dv2l3r8tygB-"
      },
      "execution_count": null,
      "outputs": []
    },
    {
      "cell_type": "code",
      "source": [
        "time.time()"
      ],
      "metadata": {
        "colab": {
          "base_uri": "https://localhost:8080/"
        },
        "id": "Gk0I3YqpymYV",
        "outputId": "5f22c073-c599-487f-e2bd-58a670a5bdda"
      },
      "execution_count": null,
      "outputs": [
        {
          "output_type": "execute_result",
          "data": {
            "text/plain": [
              "1677114134.6833987"
            ]
          },
          "metadata": {},
          "execution_count": 12
        }
      ]
    },
    {
      "cell_type": "code",
      "source": [
        "time.time()"
      ],
      "metadata": {
        "colab": {
          "base_uri": "https://localhost:8080/"
        },
        "id": "g4Mqi7Qey2WB",
        "outputId": "05ebdec3-7548-4078-c35e-3a3d456a0c40"
      },
      "execution_count": null,
      "outputs": [
        {
          "output_type": "execute_result",
          "data": {
            "text/plain": [
              "1677114178.750511"
            ]
          },
          "metadata": {},
          "execution_count": 13
        }
      ]
    },
    {
      "cell_type": "code",
      "source": [
        "1677114178.750511 - 1677114134.6833987"
      ],
      "metadata": {
        "colab": {
          "base_uri": "https://localhost:8080/"
        },
        "id": "c6cLCnqRy5oP",
        "outputId": "be76220e-d68a-4ae8-ccfb-77b7eb75dd99"
      },
      "execution_count": null,
      "outputs": [
        {
          "output_type": "execute_result",
          "data": {
            "text/plain": [
              "44.06711220741272"
            ]
          },
          "metadata": {},
          "execution_count": 14
        }
      ]
    },
    {
      "cell_type": "code",
      "source": [
        "print(1677114178.750511 - 1677114134.6833987)"
      ],
      "metadata": {
        "colab": {
          "base_uri": "https://localhost:8080/"
        },
        "id": "0y15X9dbzW_j",
        "outputId": "107082ad-0975-4e52-ec3d-f2b795873189"
      },
      "execution_count": null,
      "outputs": [
        {
          "output_type": "stream",
          "name": "stdout",
          "text": [
            "44.06711220741272\n"
          ]
        }
      ]
    },
    {
      "cell_type": "markdown",
      "source": [
        "**python es un lenguaje orientado a objetos**"
      ],
      "metadata": {
        "id": "P8Wa8o1zzWVR"
      }
    },
    {
      "cell_type": "code",
      "source": [
        "a = 4"
      ],
      "metadata": {
        "id": "ztsYdlY9zmfQ"
      },
      "execution_count": null,
      "outputs": []
    },
    {
      "cell_type": "code",
      "source": [
        "print(a)"
      ],
      "metadata": {
        "colab": {
          "base_uri": "https://localhost:8080/"
        },
        "id": "Wa2q7QxPzpZp",
        "outputId": "2257737d-f50f-4dd8-9b09-f8d5af8a96d4"
      },
      "execution_count": null,
      "outputs": [
        {
          "output_type": "stream",
          "name": "stdout",
          "text": [
            "4\n"
          ]
        }
      ]
    },
    {
      "cell_type": "code",
      "source": [
        "a = 'esto es una línea de texto'\n",
        "print(a)"
      ],
      "metadata": {
        "colab": {
          "base_uri": "https://localhost:8080/"
        },
        "id": "fMhrLAIizzmr",
        "outputId": "f7c4976c-7626-4415-f935-fe6acc4a0aa4"
      },
      "execution_count": null,
      "outputs": [
        {
          "output_type": "stream",
          "name": "stdout",
          "text": [
            "esto es una línea de texto\n"
          ]
        }
      ]
    },
    {
      "cell_type": "code",
      "source": [
        "time_elapsed = 1677114178.750511 - 1677114134.6833987\n",
        "print(time_elapsed)"
      ],
      "metadata": {
        "colab": {
          "base_uri": "https://localhost:8080/"
        },
        "id": "T8Sfl6LC0AbQ",
        "outputId": "009f4e47-2b3e-4de7-b0e1-6de4f150b214"
      },
      "execution_count": null,
      "outputs": [
        {
          "output_type": "stream",
          "name": "stdout",
          "text": [
            "44.06711220741272\n"
          ]
        }
      ]
    },
    {
      "cell_type": "code",
      "source": [
        "print(\"El tiempo de demora del proceso es de 1677114178.750511 - 1677114134.6833987 segundos\")"
      ],
      "metadata": {
        "colab": {
          "base_uri": "https://localhost:8080/"
        },
        "id": "V6_zj8TC0ZZw",
        "outputId": "46907bf8-2c33-47c3-ba52-a07d90715be9"
      },
      "execution_count": null,
      "outputs": [
        {
          "output_type": "stream",
          "name": "stdout",
          "text": [
            "El tiempo de demora del proceso es de 1677114178.750511 - 1677114134.6833987 segundos\n"
          ]
        }
      ]
    },
    {
      "cell_type": "code",
      "source": [
        "start = time.time()\n",
        "print('proceso')\n",
        "time_elapsed = time.time() - start\n",
        "\n",
        "print(f\"El tiempo de demora del proceso es de {time_elapsed} segundos\")\n",
        "\n"
      ],
      "metadata": {
        "colab": {
          "base_uri": "https://localhost:8080/"
        },
        "id": "BZE39n9_1PKl",
        "outputId": "2f8d0322-9056-472f-b2b9-7232a9cf652e"
      },
      "execution_count": null,
      "outputs": [
        {
          "output_type": "stream",
          "name": "stdout",
          "text": [
            "proceso\n",
            "El tiempo de demora del proceso es de 0.0011310577392578125 segundos\n"
          ]
        }
      ]
    },
    {
      "cell_type": "code",
      "source": [
        "print(\"Texto\")"
      ],
      "metadata": {
        "colab": {
          "base_uri": "https://localhost:8080/"
        },
        "id": "S46nG2iG2YYq",
        "outputId": "f9c0b9b8-e7e4-4e62-f33a-37b6841ca0ec"
      },
      "execution_count": null,
      "outputs": [
        {
          "output_type": "stream",
          "name": "stdout",
          "text": [
            "Texto\n"
          ]
        }
      ]
    },
    {
      "cell_type": "code",
      "source": [
        "print('Texto')"
      ],
      "metadata": {
        "colab": {
          "base_uri": "https://localhost:8080/"
        },
        "id": "qb1ZYRGL2cl6",
        "outputId": "28829597-9c30-4ff7-c1f4-7d3adf7b751a"
      },
      "execution_count": null,
      "outputs": [
        {
          "output_type": "stream",
          "name": "stdout",
          "text": [
            "Texto\n"
          ]
        }
      ]
    },
    {
      "cell_type": "code",
      "source": [
        "print('John\"s')\n"
      ],
      "metadata": {
        "colab": {
          "base_uri": "https://localhost:8080/"
        },
        "id": "ZwzYnnp52j_n",
        "outputId": "0be5399f-0415-4006-ac2a-693d2d848eaa"
      },
      "execution_count": null,
      "outputs": [
        {
          "output_type": "stream",
          "name": "stdout",
          "text": [
            "John\"s\n"
          ]
        }
      ]
    },
    {
      "cell_type": "markdown",
      "source": [
        "## Estructuras en Python"
      ],
      "metadata": {
        "id": "7NzvCWkT5K31"
      }
    },
    {
      "cell_type": "markdown",
      "source": [
        "**Listas**"
      ],
      "metadata": {
        "id": "Z38gPnHA5ZfN"
      }
    },
    {
      "cell_type": "code",
      "source": [
        "my_list = [1, 2, 3, \"hola\", [4, 5], None]"
      ],
      "metadata": {
        "id": "Rf0EwdHt5c2b"
      },
      "execution_count": null,
      "outputs": []
    },
    {
      "cell_type": "code",
      "source": [
        "edad_dmc = [31, 29, 23, 23, 27, 25, 24, 27,24, 28, 20, 36]\n",
        "edad_dmc"
      ],
      "metadata": {
        "colab": {
          "base_uri": "https://localhost:8080/"
        },
        "id": "Pc1Uy5YG6FgM",
        "outputId": "3c81040c-662b-4ee8-deef-e2c5e7adcce8"
      },
      "execution_count": null,
      "outputs": [
        {
          "output_type": "execute_result",
          "data": {
            "text/plain": [
              "[31, 29, 23, 23, 27, 25, 24, 27, 24, 28, 20, 36]"
            ]
          },
          "metadata": {},
          "execution_count": 44
        }
      ]
    },
    {
      "cell_type": "code",
      "source": [
        "import numpy as np"
      ],
      "metadata": {
        "id": "kV2nycoU6oPO"
      },
      "execution_count": null,
      "outputs": []
    },
    {
      "cell_type": "code",
      "source": [
        "np.mean(edad_dmc)"
      ],
      "metadata": {
        "colab": {
          "base_uri": "https://localhost:8080/"
        },
        "id": "XFVtBReT6gno",
        "outputId": "9346ce8d-e178-4a51-81d6-1cbbd0cba404"
      },
      "execution_count": null,
      "outputs": [
        {
          "output_type": "execute_result",
          "data": {
            "text/plain": [
              "26.416666666666668"
            ]
          },
          "metadata": {},
          "execution_count": 49
        }
      ]
    },
    {
      "cell_type": "code",
      "source": [
        "np.std(edad_dmc)"
      ],
      "metadata": {
        "colab": {
          "base_uri": "https://localhost:8080/"
        },
        "id": "X1HULWoA7C89",
        "outputId": "5f6cf786-b5af-4e9a-cbfe-77b114f3450e"
      },
      "execution_count": null,
      "outputs": [
        {
          "output_type": "execute_result",
          "data": {
            "text/plain": [
              "4.091827899063639"
            ]
          },
          "metadata": {},
          "execution_count": 50
        }
      ]
    },
    {
      "cell_type": "code",
      "source": [
        "my_algorithms = ['lr', 'dtree', 'rf', 'xgboost']"
      ],
      "metadata": {
        "id": "CE_QeDuW7lqj"
      },
      "execution_count": null,
      "outputs": []
    },
    {
      "cell_type": "markdown",
      "source": [
        "## iteraciones en python"
      ],
      "metadata": {
        "id": "IhrjZzLd7lOv"
      }
    },
    {
      "cell_type": "code",
      "source": [
        "2**2"
      ],
      "metadata": {
        "colab": {
          "base_uri": "https://localhost:8080/"
        },
        "id": "VsaUyKBE8fNT",
        "outputId": "ffbde350-6c71-4230-9796-98ed61bd551e"
      },
      "execution_count": null,
      "outputs": [
        {
          "output_type": "execute_result",
          "data": {
            "text/plain": [
              "4"
            ]
          },
          "metadata": {},
          "execution_count": 53
        }
      ]
    },
    {
      "cell_type": "code",
      "source": [
        "3**2"
      ],
      "metadata": {
        "colab": {
          "base_uri": "https://localhost:8080/"
        },
        "id": "w--EvBWI8nXK",
        "outputId": "58abd62e-8b29-452a-ff03-8ca723ab6906"
      },
      "execution_count": null,
      "outputs": [
        {
          "output_type": "execute_result",
          "data": {
            "text/plain": [
              "9"
            ]
          },
          "metadata": {},
          "execution_count": 54
        }
      ]
    },
    {
      "cell_type": "code",
      "source": [
        "4**2"
      ],
      "metadata": {
        "colab": {
          "base_uri": "https://localhost:8080/"
        },
        "id": "xG0Oi_5_8rK3",
        "outputId": "8341f222-f182-4752-dd7b-553d0e04f87b"
      },
      "execution_count": null,
      "outputs": [
        {
          "output_type": "execute_result",
          "data": {
            "text/plain": [
              "16"
            ]
          },
          "metadata": {},
          "execution_count": 55
        }
      ]
    },
    {
      "cell_type": "code",
      "source": [
        "for x in [2, 3, 4, 5]:\n",
        "  print(x**2)\n",
        "\n",
        "#Es muy importante definir la identación, porq esto indica todo lo quieren que suceda dentro ddel loop  "
      ],
      "metadata": {
        "colab": {
          "base_uri": "https://localhost:8080/"
        },
        "id": "bH6QVg3z8XEo",
        "outputId": "1623feb6-feb2-47be-95da-81c9b313574c"
      },
      "execution_count": null,
      "outputs": [
        {
          "output_type": "stream",
          "name": "stdout",
          "text": [
            "4\n",
            "9\n",
            "16\n",
            "25\n"
          ]
        }
      ]
    },
    {
      "cell_type": "code",
      "source": [
        "for x in my_algorithms:\n",
        "  print(f\"ejecutando el algotimo: {x}\")\n",
        "  print('proceso finalizado')\n",
        "\n"
      ],
      "metadata": {
        "colab": {
          "base_uri": "https://localhost:8080/"
        },
        "id": "tBBn64wj87Zs",
        "outputId": "d0537486-88b7-49e1-86d0-4187e218b423"
      },
      "execution_count": null,
      "outputs": [
        {
          "output_type": "stream",
          "name": "stdout",
          "text": [
            "ejecutando el algotimo: lr\n",
            "proceso finalizado\n",
            "ejecutando el algotimo: dtree\n",
            "proceso finalizado\n",
            "ejecutando el algotimo: rf\n",
            "proceso finalizado\n",
            "ejecutando el algotimo: xgboost\n",
            "proceso finalizado\n"
          ]
        }
      ]
    },
    {
      "cell_type": "code",
      "source": [
        "for x in my_algorithms:\n",
        "  print(f\"ejecutando el algotimo: {x}\")\n",
        "print('proceso finalizado')\n"
      ],
      "metadata": {
        "colab": {
          "base_uri": "https://localhost:8080/"
        },
        "id": "rW-3kpl5__vh",
        "outputId": "087a5b9f-9a93-4848-8a4a-6b7809840903"
      },
      "execution_count": null,
      "outputs": [
        {
          "output_type": "stream",
          "name": "stdout",
          "text": [
            "ejecutando el algotimo: lr\n",
            "ejecutando el algotimo: dtree\n",
            "ejecutando el algotimo: rf\n",
            "ejecutando el algotimo: xgboost\n",
            "proceso finalizado\n"
          ]
        }
      ]
    },
    {
      "cell_type": "code",
      "source": [
        "#función módulo: es el residuo de dividir un número entre otro\n",
        "10%3"
      ],
      "metadata": {
        "colab": {
          "base_uri": "https://localhost:8080/"
        },
        "id": "yWNluhks9OF-",
        "outputId": "a02d676e-961e-4a9f-d8d6-fe15efa30d81"
      },
      "execution_count": null,
      "outputs": [
        {
          "output_type": "execute_result",
          "data": {
            "text/plain": [
              "1"
            ]
          },
          "metadata": {},
          "execution_count": 59
        }
      ]
    },
    {
      "cell_type": "code",
      "source": [
        "multiplos_3 = [0, 3, 6, 9, 12, 15, 18]\n"
      ],
      "metadata": {
        "id": "p4Oo7O5-92Kc"
      },
      "execution_count": null,
      "outputs": []
    },
    {
      "cell_type": "code",
      "source": [
        "for x in multiplos_3:\n",
        "  print(x%3)"
      ],
      "metadata": {
        "colab": {
          "base_uri": "https://localhost:8080/",
          "height": 131
        },
        "id": "5ubO9NDS9_EF",
        "outputId": "2653b91a-2e83-4f04-ecdd-06407160005a"
      },
      "execution_count": null,
      "outputs": [
        {
          "output_type": "error",
          "ename": "IndentationError",
          "evalue": "ignored",
          "traceback": [
            "\u001b[0;36m  File \u001b[0;32m\"<ipython-input-68-6803c3b59883>\"\u001b[0;36m, line \u001b[0;32m2\u001b[0m\n\u001b[0;31m    print(x%3)\u001b[0m\n\u001b[0m    ^\u001b[0m\n\u001b[0;31mIndentationError\u001b[0m\u001b[0;31m:\u001b[0m expected an indented block\n"
          ]
        }
      ]
    },
    {
      "cell_type": "code",
      "source": [
        "6 == 6"
      ],
      "metadata": {
        "colab": {
          "base_uri": "https://localhost:8080/"
        },
        "id": "npPFUjOfATKy",
        "outputId": "aaebd4ec-0aa3-4fee-e3d5-73ecbf7274a8"
      },
      "execution_count": null,
      "outputs": [
        {
          "output_type": "execute_result",
          "data": {
            "text/plain": [
              "True"
            ]
          },
          "metadata": {},
          "execution_count": 74
        }
      ]
    },
    {
      "cell_type": "code",
      "source": [
        "# == <= >= !="
      ],
      "metadata": {
        "id": "n9_s1aQqAjWy"
      },
      "execution_count": null,
      "outputs": []
    },
    {
      "cell_type": "code",
      "source": [
        "9%3 == 0"
      ],
      "metadata": {
        "colab": {
          "base_uri": "https://localhost:8080/"
        },
        "id": "VZhEEoFl9rHG",
        "outputId": "fc256353-fbd0-483d-d923-4af6162cc20f"
      },
      "execution_count": null,
      "outputs": [
        {
          "output_type": "execute_result",
          "data": {
            "text/plain": [
              "True"
            ]
          },
          "metadata": {},
          "execution_count": 75
        }
      ]
    },
    {
      "cell_type": "markdown",
      "source": [
        "#### Ejercicio\n",
        "Mediante un for imprima los números del 1 al 10 e indique si son multiplos de tres."
      ],
      "metadata": {
        "id": "Y2VwWt6FAt4i"
      }
    },
    {
      "cell_type": "code",
      "source": [
        "for x in [1, 2, 3, 4, 5, 6, 7, 8, 9, 10]:\n",
        "  print(f\"¿{x} es multiplo de 3?: {x%3 == 0}\")"
      ],
      "metadata": {
        "colab": {
          "base_uri": "https://localhost:8080/"
        },
        "id": "Ve990Xh3FddV",
        "outputId": "4fe1aa55-75a5-4ba1-aa76-9636b8ce8425"
      },
      "execution_count": null,
      "outputs": [
        {
          "output_type": "stream",
          "name": "stdout",
          "text": [
            "¿1 es multiplo de 3?: False\n",
            "¿2 es multiplo de 3?: False\n",
            "¿3 es multiplo de 3?: True\n",
            "¿4 es multiplo de 3?: False\n",
            "¿5 es multiplo de 3?: False\n",
            "¿6 es multiplo de 3?: True\n",
            "¿7 es multiplo de 3?: False\n",
            "¿8 es multiplo de 3?: False\n",
            "¿9 es multiplo de 3?: True\n",
            "¿10 es multiplo de 3?: False\n"
          ]
        }
      ]
    },
    {
      "cell_type": "markdown",
      "source": [
        "## if else"
      ],
      "metadata": {
        "id": "49Gvsv2QF-so"
      }
    },
    {
      "cell_type": "code",
      "source": [
        "x = 11\n",
        "\n",
        "if x%3 == 0:\n",
        "  print(f'{x} es multiplo de 3')\n",
        "else:\n",
        "  print(f'{x} no es multiplo de 3')\n",
        "\n",
        "print('proceso finalizado')"
      ],
      "metadata": {
        "colab": {
          "base_uri": "https://localhost:8080/"
        },
        "id": "uqkPmxccGAua",
        "outputId": "33c0a31f-3f28-4c6f-941f-3f1935df1e02"
      },
      "execution_count": null,
      "outputs": [
        {
          "output_type": "stream",
          "name": "stdout",
          "text": [
            "11 no es multiplo de 3\n",
            "proceso finalizado\n"
          ]
        }
      ]
    },
    {
      "cell_type": "code",
      "source": [
        "for x in [1, 2, 3, 4, 5, 6, 7, 8, 9, 10]:\n",
        "  if x%3 == 0:\n",
        "    print(f'{x} es multiplo de 3')\n"
      ],
      "metadata": {
        "colab": {
          "base_uri": "https://localhost:8080/"
        },
        "id": "eYqSHpd7G9uq",
        "outputId": "bf1d6d32-86b0-4514-faa9-26713a98ab0c"
      },
      "execution_count": null,
      "outputs": [
        {
          "output_type": "stream",
          "name": "stdout",
          "text": [
            "3 es multiplo de 3\n",
            "6 es multiplo de 3\n",
            "9 es multiplo de 3\n"
          ]
        }
      ]
    },
    {
      "cell_type": "code",
      "source": [
        "for x in range(10, 31, 5):\n",
        "  print(x)"
      ],
      "metadata": {
        "colab": {
          "base_uri": "https://localhost:8080/"
        },
        "id": "ZzC6AjwiHg-M",
        "outputId": "b80acd3a-6c60-4c49-b8e9-bb825f1adb1e"
      },
      "execution_count": null,
      "outputs": [
        {
          "output_type": "stream",
          "name": "stdout",
          "text": [
            "10\n",
            "15\n",
            "20\n",
            "25\n",
            "30\n"
          ]
        }
      ]
    },
    {
      "cell_type": "markdown",
      "source": [
        "## list comprehension"
      ],
      "metadata": {
        "id": "LrFun659IjA9"
      }
    },
    {
      "cell_type": "code",
      "source": [
        "[x for x in range(0,11)]"
      ],
      "metadata": {
        "colab": {
          "base_uri": "https://localhost:8080/"
        },
        "id": "O27PRjntJpRk",
        "outputId": "9cf63414-3b4b-443a-c343-eb354f911450"
      },
      "execution_count": null,
      "outputs": [
        {
          "output_type": "execute_result",
          "data": {
            "text/plain": [
              "[0, 1, 2, 3, 4, 5, 6, 7, 8, 9]"
            ]
          },
          "metadata": {},
          "execution_count": 89
        }
      ]
    },
    {
      "cell_type": "code",
      "source": [
        "[x for x in range(0, 11) if x%3 == 0]"
      ],
      "metadata": {
        "colab": {
          "base_uri": "https://localhost:8080/"
        },
        "id": "svoiVv8yIvtF",
        "outputId": "6a1da06a-44c8-43b7-e989-a512a605f030"
      },
      "execution_count": null,
      "outputs": [
        {
          "output_type": "execute_result",
          "data": {
            "text/plain": [
              "[0, 3, 6, 9]"
            ]
          },
          "metadata": {},
          "execution_count": 88
        }
      ]
    },
    {
      "cell_type": "code",
      "source": [
        "[x**2 + x for x in range(0,11)]"
      ],
      "metadata": {
        "colab": {
          "base_uri": "https://localhost:8080/"
        },
        "id": "BqFpQ2arJxYy",
        "outputId": "e5f8cf13-5847-4e87-a538-52394ec2dd09"
      },
      "execution_count": null,
      "outputs": [
        {
          "output_type": "execute_result",
          "data": {
            "text/plain": [
              "[0, 2, 6, 12, 20, 30, 42, 56, 72, 90, 110]"
            ]
          },
          "metadata": {},
          "execution_count": 90
        }
      ]
    },
    {
      "cell_type": "markdown",
      "source": [
        "## Funciones"
      ],
      "metadata": {
        "id": "zSH0LE9CLUVA"
      }
    },
    {
      "cell_type": "code",
      "source": [
        "def nombre_funcion(input1, input2):\n",
        "  proceso\n",
        "  return output"
      ],
      "metadata": {
        "id": "GgQRz9JIL3m9"
      },
      "execution_count": null,
      "outputs": []
    },
    {
      "cell_type": "code",
      "source": [
        "def my_greets(name):\n",
        "  \"\"\"Esta función emite un saludo a la persona que ingrese su nombre.\"\"\"\n",
        "  greet = f\"hola {name}, bienvenido al curso de dmc!, espero que aprendas mucho!\"\n",
        "  return print(greet)\n"
      ],
      "metadata": {
        "id": "ZvmvNMLYLYLZ"
      },
      "execution_count": null,
      "outputs": []
    },
    {
      "cell_type": "code",
      "source": [
        "my_greets(name = \"John\")"
      ],
      "metadata": {
        "colab": {
          "base_uri": "https://localhost:8080/"
        },
        "id": "hegHFCStMrEy",
        "outputId": "4999d850-067e-4db3-a71f-124b8608f764"
      },
      "execution_count": null,
      "outputs": [
        {
          "output_type": "stream",
          "name": "stdout",
          "text": [
            "hola John, bienvenido al curso de dmc!, espero que aprendas mucho!\n"
          ]
        }
      ]
    },
    {
      "cell_type": "code",
      "source": [
        "my_greets(\"John\")"
      ],
      "metadata": {
        "colab": {
          "base_uri": "https://localhost:8080/"
        },
        "id": "meq_nUpjMyMe",
        "outputId": "9623f889-6531-4713-f5d2-fb12a13d9a42"
      },
      "execution_count": null,
      "outputs": [
        {
          "output_type": "stream",
          "name": "stdout",
          "text": [
            "hola John, bienvenido al curso de dmc!, espero que aprendas mucho!\n"
          ]
        }
      ]
    },
    {
      "cell_type": "code",
      "source": [
        "my_greets?"
      ],
      "metadata": {
        "id": "dUHV8eY4M9Jn"
      },
      "execution_count": null,
      "outputs": []
    },
    {
      "cell_type": "code",
      "source": [
        "range?"
      ],
      "metadata": {
        "id": "4FEPxyApNDva"
      },
      "execution_count": null,
      "outputs": []
    },
    {
      "cell_type": "code",
      "source": [
        "def funx_multiple(number1, number2):\n",
        "  \"\"\"Esta función evalúa si el number1 es múltiplo del number2\"\"\"\n",
        "  if number1%number2 == 0:\n",
        "    return print(f\"{number1} si es múltiplo de {number2}\")\n",
        "  else:\n",
        "    return print(f\"{number1} no es múltiplo de {number2}\")\n"
      ],
      "metadata": {
        "id": "m2b_ORHqNU6V"
      },
      "execution_count": null,
      "outputs": []
    },
    {
      "cell_type": "code",
      "source": [
        "funx_multiple(1200, 15)"
      ],
      "metadata": {
        "colab": {
          "base_uri": "https://localhost:8080/"
        },
        "id": "kjG8qaUtNbb8",
        "outputId": "f679760d-e4db-45ba-c059-d67322e752e4"
      },
      "execution_count": null,
      "outputs": [
        {
          "output_type": "stream",
          "name": "stdout",
          "text": [
            "1200 si es múltiplo de 15\n"
          ]
        }
      ]
    },
    {
      "cell_type": "markdown",
      "source": [
        "## PANDAS"
      ],
      "metadata": {
        "id": "U6zvOadWOqe0"
      }
    },
    {
      "cell_type": "code",
      "source": [
        "import pandas as pd"
      ],
      "metadata": {
        "id": "Syx9GJHQOtKB"
      },
      "execution_count": null,
      "outputs": []
    },
    {
      "cell_type": "code",
      "source": [
        "pddf = pd.DataFrame({'nombre': ['Julio', 'Egiber', 'Nicolas', 'Oscar', 'Anthony'],\n",
        "                     'nota': [15, 17, 14, 19, 15]}) "
      ],
      "metadata": {
        "id": "TLE_6f-pO6eZ"
      },
      "execution_count": null,
      "outputs": []
    },
    {
      "cell_type": "code",
      "source": [
        "pddf['columna_nueva'] = [2, 4, 5, 7, 2]\n"
      ],
      "metadata": {
        "id": "IxxCAYIgPqK7"
      },
      "execution_count": null,
      "outputs": []
    },
    {
      "cell_type": "code",
      "source": [
        "pddf['columna_nueva2'] = pddf['nota']/pddf['columna_nueva']\n",
        "pddf"
      ],
      "metadata": {
        "colab": {
          "base_uri": "https://localhost:8080/",
          "height": 206
        },
        "id": "BCGk46qyP_Xc",
        "outputId": "ff034c5a-9711-41bd-884b-4b9bf1b18fd9"
      },
      "execution_count": null,
      "outputs": [
        {
          "output_type": "execute_result",
          "data": {
            "text/plain": [
              "    nombre  nota  columna_nueva  columna_nueva2\n",
              "0    Julio    15              2        7.500000\n",
              "1   Egiber    17              4        4.250000\n",
              "2  Nicolas    14              5        2.800000\n",
              "3    Oscar    19              7        2.714286\n",
              "4  Anthony    15              2        7.500000"
            ],
            "text/html": [
              "\n",
              "  <div id=\"df-724e108f-eb41-4ea5-ac3b-1c7176256868\">\n",
              "    <div class=\"colab-df-container\">\n",
              "      <div>\n",
              "<style scoped>\n",
              "    .dataframe tbody tr th:only-of-type {\n",
              "        vertical-align: middle;\n",
              "    }\n",
              "\n",
              "    .dataframe tbody tr th {\n",
              "        vertical-align: top;\n",
              "    }\n",
              "\n",
              "    .dataframe thead th {\n",
              "        text-align: right;\n",
              "    }\n",
              "</style>\n",
              "<table border=\"1\" class=\"dataframe\">\n",
              "  <thead>\n",
              "    <tr style=\"text-align: right;\">\n",
              "      <th></th>\n",
              "      <th>nombre</th>\n",
              "      <th>nota</th>\n",
              "      <th>columna_nueva</th>\n",
              "      <th>columna_nueva2</th>\n",
              "    </tr>\n",
              "  </thead>\n",
              "  <tbody>\n",
              "    <tr>\n",
              "      <th>0</th>\n",
              "      <td>Julio</td>\n",
              "      <td>15</td>\n",
              "      <td>2</td>\n",
              "      <td>7.500000</td>\n",
              "    </tr>\n",
              "    <tr>\n",
              "      <th>1</th>\n",
              "      <td>Egiber</td>\n",
              "      <td>17</td>\n",
              "      <td>4</td>\n",
              "      <td>4.250000</td>\n",
              "    </tr>\n",
              "    <tr>\n",
              "      <th>2</th>\n",
              "      <td>Nicolas</td>\n",
              "      <td>14</td>\n",
              "      <td>5</td>\n",
              "      <td>2.800000</td>\n",
              "    </tr>\n",
              "    <tr>\n",
              "      <th>3</th>\n",
              "      <td>Oscar</td>\n",
              "      <td>19</td>\n",
              "      <td>7</td>\n",
              "      <td>2.714286</td>\n",
              "    </tr>\n",
              "    <tr>\n",
              "      <th>4</th>\n",
              "      <td>Anthony</td>\n",
              "      <td>15</td>\n",
              "      <td>2</td>\n",
              "      <td>7.500000</td>\n",
              "    </tr>\n",
              "  </tbody>\n",
              "</table>\n",
              "</div>\n",
              "      <button class=\"colab-df-convert\" onclick=\"convertToInteractive('df-724e108f-eb41-4ea5-ac3b-1c7176256868')\"\n",
              "              title=\"Convert this dataframe to an interactive table.\"\n",
              "              style=\"display:none;\">\n",
              "        \n",
              "  <svg xmlns=\"http://www.w3.org/2000/svg\" height=\"24px\"viewBox=\"0 0 24 24\"\n",
              "       width=\"24px\">\n",
              "    <path d=\"M0 0h24v24H0V0z\" fill=\"none\"/>\n",
              "    <path d=\"M18.56 5.44l.94 2.06.94-2.06 2.06-.94-2.06-.94-.94-2.06-.94 2.06-2.06.94zm-11 1L8.5 8.5l.94-2.06 2.06-.94-2.06-.94L8.5 2.5l-.94 2.06-2.06.94zm10 10l.94 2.06.94-2.06 2.06-.94-2.06-.94-.94-2.06-.94 2.06-2.06.94z\"/><path d=\"M17.41 7.96l-1.37-1.37c-.4-.4-.92-.59-1.43-.59-.52 0-1.04.2-1.43.59L10.3 9.45l-7.72 7.72c-.78.78-.78 2.05 0 2.83L4 21.41c.39.39.9.59 1.41.59.51 0 1.02-.2 1.41-.59l7.78-7.78 2.81-2.81c.8-.78.8-2.07 0-2.86zM5.41 20L4 18.59l7.72-7.72 1.47 1.35L5.41 20z\"/>\n",
              "  </svg>\n",
              "      </button>\n",
              "      \n",
              "  <style>\n",
              "    .colab-df-container {\n",
              "      display:flex;\n",
              "      flex-wrap:wrap;\n",
              "      gap: 12px;\n",
              "    }\n",
              "\n",
              "    .colab-df-convert {\n",
              "      background-color: #E8F0FE;\n",
              "      border: none;\n",
              "      border-radius: 50%;\n",
              "      cursor: pointer;\n",
              "      display: none;\n",
              "      fill: #1967D2;\n",
              "      height: 32px;\n",
              "      padding: 0 0 0 0;\n",
              "      width: 32px;\n",
              "    }\n",
              "\n",
              "    .colab-df-convert:hover {\n",
              "      background-color: #E2EBFA;\n",
              "      box-shadow: 0px 1px 2px rgba(60, 64, 67, 0.3), 0px 1px 3px 1px rgba(60, 64, 67, 0.15);\n",
              "      fill: #174EA6;\n",
              "    }\n",
              "\n",
              "    [theme=dark] .colab-df-convert {\n",
              "      background-color: #3B4455;\n",
              "      fill: #D2E3FC;\n",
              "    }\n",
              "\n",
              "    [theme=dark] .colab-df-convert:hover {\n",
              "      background-color: #434B5C;\n",
              "      box-shadow: 0px 1px 3px 1px rgba(0, 0, 0, 0.15);\n",
              "      filter: drop-shadow(0px 1px 2px rgba(0, 0, 0, 0.3));\n",
              "      fill: #FFFFFF;\n",
              "    }\n",
              "  </style>\n",
              "\n",
              "      <script>\n",
              "        const buttonEl =\n",
              "          document.querySelector('#df-724e108f-eb41-4ea5-ac3b-1c7176256868 button.colab-df-convert');\n",
              "        buttonEl.style.display =\n",
              "          google.colab.kernel.accessAllowed ? 'block' : 'none';\n",
              "\n",
              "        async function convertToInteractive(key) {\n",
              "          const element = document.querySelector('#df-724e108f-eb41-4ea5-ac3b-1c7176256868');\n",
              "          const dataTable =\n",
              "            await google.colab.kernel.invokeFunction('convertToInteractive',\n",
              "                                                     [key], {});\n",
              "          if (!dataTable) return;\n",
              "\n",
              "          const docLinkHtml = 'Like what you see? Visit the ' +\n",
              "            '<a target=\"_blank\" href=https://colab.research.google.com/notebooks/data_table.ipynb>data table notebook</a>'\n",
              "            + ' to learn more about interactive tables.';\n",
              "          element.innerHTML = '';\n",
              "          dataTable['output_type'] = 'display_data';\n",
              "          await google.colab.output.renderOutput(dataTable, element);\n",
              "          const docLink = document.createElement('div');\n",
              "          docLink.innerHTML = docLinkHtml;\n",
              "          element.appendChild(docLink);\n",
              "        }\n",
              "      </script>\n",
              "    </div>\n",
              "  </div>\n",
              "  "
            ]
          },
          "metadata": {},
          "execution_count": 116
        }
      ]
    },
    {
      "cell_type": "code",
      "source": [
        "import math"
      ],
      "metadata": {
        "id": "7KLLMa3mQ8VD"
      },
      "execution_count": null,
      "outputs": []
    },
    {
      "cell_type": "code",
      "source": [
        "math.exp"
      ],
      "metadata": {
        "id": "qSaQL9wERNy4"
      },
      "execution_count": null,
      "outputs": []
    },
    {
      "cell_type": "code",
      "source": [
        "from math import exp"
      ],
      "metadata": {
        "id": "5hhi0-IYQ78l"
      },
      "execution_count": null,
      "outputs": []
    },
    {
      "cell_type": "code",
      "source": [
        "pddf['col_new'] = pddf['nota'].apply(lambda x: 1/(1 + exp(-x)))\n",
        "pddf"
      ],
      "metadata": {
        "colab": {
          "base_uri": "https://localhost:8080/",
          "height": 206
        },
        "id": "DKWbLAx9QYSk",
        "outputId": "eae885d3-8164-46e2-d3a0-72df0150d339"
      },
      "execution_count": null,
      "outputs": [
        {
          "output_type": "execute_result",
          "data": {
            "text/plain": [
              "    nombre  nota  columna_nueva  columna_nueva2   col_new\n",
              "0    Julio    15              2        7.500000  1.000000\n",
              "1   Egiber    17              4        4.250000  1.000000\n",
              "2  Nicolas    14              5        2.800000  0.999999\n",
              "3    Oscar    19              7        2.714286  1.000000\n",
              "4  Anthony    15              2        7.500000  1.000000"
            ],
            "text/html": [
              "\n",
              "  <div id=\"df-182d5861-eba9-4feb-9dbb-e5d1caf4c6ae\">\n",
              "    <div class=\"colab-df-container\">\n",
              "      <div>\n",
              "<style scoped>\n",
              "    .dataframe tbody tr th:only-of-type {\n",
              "        vertical-align: middle;\n",
              "    }\n",
              "\n",
              "    .dataframe tbody tr th {\n",
              "        vertical-align: top;\n",
              "    }\n",
              "\n",
              "    .dataframe thead th {\n",
              "        text-align: right;\n",
              "    }\n",
              "</style>\n",
              "<table border=\"1\" class=\"dataframe\">\n",
              "  <thead>\n",
              "    <tr style=\"text-align: right;\">\n",
              "      <th></th>\n",
              "      <th>nombre</th>\n",
              "      <th>nota</th>\n",
              "      <th>columna_nueva</th>\n",
              "      <th>columna_nueva2</th>\n",
              "      <th>col_new</th>\n",
              "    </tr>\n",
              "  </thead>\n",
              "  <tbody>\n",
              "    <tr>\n",
              "      <th>0</th>\n",
              "      <td>Julio</td>\n",
              "      <td>15</td>\n",
              "      <td>2</td>\n",
              "      <td>7.500000</td>\n",
              "      <td>1.000000</td>\n",
              "    </tr>\n",
              "    <tr>\n",
              "      <th>1</th>\n",
              "      <td>Egiber</td>\n",
              "      <td>17</td>\n",
              "      <td>4</td>\n",
              "      <td>4.250000</td>\n",
              "      <td>1.000000</td>\n",
              "    </tr>\n",
              "    <tr>\n",
              "      <th>2</th>\n",
              "      <td>Nicolas</td>\n",
              "      <td>14</td>\n",
              "      <td>5</td>\n",
              "      <td>2.800000</td>\n",
              "      <td>0.999999</td>\n",
              "    </tr>\n",
              "    <tr>\n",
              "      <th>3</th>\n",
              "      <td>Oscar</td>\n",
              "      <td>19</td>\n",
              "      <td>7</td>\n",
              "      <td>2.714286</td>\n",
              "      <td>1.000000</td>\n",
              "    </tr>\n",
              "    <tr>\n",
              "      <th>4</th>\n",
              "      <td>Anthony</td>\n",
              "      <td>15</td>\n",
              "      <td>2</td>\n",
              "      <td>7.500000</td>\n",
              "      <td>1.000000</td>\n",
              "    </tr>\n",
              "  </tbody>\n",
              "</table>\n",
              "</div>\n",
              "      <button class=\"colab-df-convert\" onclick=\"convertToInteractive('df-182d5861-eba9-4feb-9dbb-e5d1caf4c6ae')\"\n",
              "              title=\"Convert this dataframe to an interactive table.\"\n",
              "              style=\"display:none;\">\n",
              "        \n",
              "  <svg xmlns=\"http://www.w3.org/2000/svg\" height=\"24px\"viewBox=\"0 0 24 24\"\n",
              "       width=\"24px\">\n",
              "    <path d=\"M0 0h24v24H0V0z\" fill=\"none\"/>\n",
              "    <path d=\"M18.56 5.44l.94 2.06.94-2.06 2.06-.94-2.06-.94-.94-2.06-.94 2.06-2.06.94zm-11 1L8.5 8.5l.94-2.06 2.06-.94-2.06-.94L8.5 2.5l-.94 2.06-2.06.94zm10 10l.94 2.06.94-2.06 2.06-.94-2.06-.94-.94-2.06-.94 2.06-2.06.94z\"/><path d=\"M17.41 7.96l-1.37-1.37c-.4-.4-.92-.59-1.43-.59-.52 0-1.04.2-1.43.59L10.3 9.45l-7.72 7.72c-.78.78-.78 2.05 0 2.83L4 21.41c.39.39.9.59 1.41.59.51 0 1.02-.2 1.41-.59l7.78-7.78 2.81-2.81c.8-.78.8-2.07 0-2.86zM5.41 20L4 18.59l7.72-7.72 1.47 1.35L5.41 20z\"/>\n",
              "  </svg>\n",
              "      </button>\n",
              "      \n",
              "  <style>\n",
              "    .colab-df-container {\n",
              "      display:flex;\n",
              "      flex-wrap:wrap;\n",
              "      gap: 12px;\n",
              "    }\n",
              "\n",
              "    .colab-df-convert {\n",
              "      background-color: #E8F0FE;\n",
              "      border: none;\n",
              "      border-radius: 50%;\n",
              "      cursor: pointer;\n",
              "      display: none;\n",
              "      fill: #1967D2;\n",
              "      height: 32px;\n",
              "      padding: 0 0 0 0;\n",
              "      width: 32px;\n",
              "    }\n",
              "\n",
              "    .colab-df-convert:hover {\n",
              "      background-color: #E2EBFA;\n",
              "      box-shadow: 0px 1px 2px rgba(60, 64, 67, 0.3), 0px 1px 3px 1px rgba(60, 64, 67, 0.15);\n",
              "      fill: #174EA6;\n",
              "    }\n",
              "\n",
              "    [theme=dark] .colab-df-convert {\n",
              "      background-color: #3B4455;\n",
              "      fill: #D2E3FC;\n",
              "    }\n",
              "\n",
              "    [theme=dark] .colab-df-convert:hover {\n",
              "      background-color: #434B5C;\n",
              "      box-shadow: 0px 1px 3px 1px rgba(0, 0, 0, 0.15);\n",
              "      filter: drop-shadow(0px 1px 2px rgba(0, 0, 0, 0.3));\n",
              "      fill: #FFFFFF;\n",
              "    }\n",
              "  </style>\n",
              "\n",
              "      <script>\n",
              "        const buttonEl =\n",
              "          document.querySelector('#df-182d5861-eba9-4feb-9dbb-e5d1caf4c6ae button.colab-df-convert');\n",
              "        buttonEl.style.display =\n",
              "          google.colab.kernel.accessAllowed ? 'block' : 'none';\n",
              "\n",
              "        async function convertToInteractive(key) {\n",
              "          const element = document.querySelector('#df-182d5861-eba9-4feb-9dbb-e5d1caf4c6ae');\n",
              "          const dataTable =\n",
              "            await google.colab.kernel.invokeFunction('convertToInteractive',\n",
              "                                                     [key], {});\n",
              "          if (!dataTable) return;\n",
              "\n",
              "          const docLinkHtml = 'Like what you see? Visit the ' +\n",
              "            '<a target=\"_blank\" href=https://colab.research.google.com/notebooks/data_table.ipynb>data table notebook</a>'\n",
              "            + ' to learn more about interactive tables.';\n",
              "          element.innerHTML = '';\n",
              "          dataTable['output_type'] = 'display_data';\n",
              "          await google.colab.output.renderOutput(dataTable, element);\n",
              "          const docLink = document.createElement('div');\n",
              "          docLink.innerHTML = docLinkHtml;\n",
              "          element.appendChild(docLink);\n",
              "        }\n",
              "      </script>\n",
              "    </div>\n",
              "  </div>\n",
              "  "
            ]
          },
          "metadata": {},
          "execution_count": 120
        }
      ]
    }
  ]
}